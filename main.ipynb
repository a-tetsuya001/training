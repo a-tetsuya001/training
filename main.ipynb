{
 "cells": [
  {
   "cell_type": "code",
   "execution_count": null,
   "id": "2f4d48bd",
   "metadata": {},
   "outputs": [],
   "source": [
    "from google.colab import drive\n",
    "drive.mount('/content/gdrive')\n",
    "\n",
    "%cd /content/gdrive/MyDrive/training/\n",
    "\n",
    "# Colab warns and provides remediation steps if the GPUs is not compatible with RAPIDS.\n",
    "!git clone https://github.com/rapidsai/rapidsai-csp-utils.git\n",
    "!python rapidsai-csp-utils/colab/pip-install.py"
   ]
  },
  {
   "cell_type": "code",
   "execution_count": 1,
   "id": "5ffee9bf",
   "metadata": {},
   "outputs": [
    {
     "name": "stderr",
     "output_type": "stream",
     "text": [
      "/home/aikawa/anaconda3/envs/rapids-24.10/lib/python3.12/site-packages/distributed/node.py:187: UserWarning: Port 8787 is already in use.\n",
      "Perhaps you already have a cluster running?\n",
      "Hosting the HTTP server on port 46189 instead\n",
      "  warnings.warn(\n"
     ]
    }
   ],
   "source": [
    "import numpy as np\n",
    "import pandas as pd\n",
    "import cudf\n",
    "import cupy\n",
    "import dask_cudf\n",
    "from sklearn.decomposition import NMF\n",
    "from sklearn.metrics import mean_squared_error\n",
    "import rapids_qt\n",
    "from dask_cuda import LocalCUDACluster\n",
    "from dask.distributed import Client\n",
    "import gc\n",
    "\n",
    "cluster = LocalCUDACluster()\n",
    "client = Client(cluster)"
   ]
  },
  {
   "cell_type": "code",
   "execution_count": 2,
   "id": "f399fe45",
   "metadata": {},
   "outputs": [
    {
     "name": "stderr",
     "output_type": "stream",
     "text": [
      "/home/aikawa/anaconda3/envs/rapids-24.10/lib/python3.12/site-packages/sklearn/decomposition/_nmf.py:1741: ConvergenceWarning: Maximum number of iterations 200 reached. Increase it to improve convergence.\n",
      "  warnings.warn(\n"
     ]
    }
   ],
   "source": [
    "V = cudf.read_csv('data/Liver_V.csv', header=0, index_col=0)\n",
    "V.index.name = None\n",
    "\n",
    "# ==== rankの値を自由に変更して実行 ====\n",
    "rank = 10\n",
    "# ====================================\n",
    "\n",
    "model = NMF(n_components=rank, init='nndsvd', random_state=42)\n",
    "V = V.to_pandas()\n",
    "W = model.fit_transform(V)\n",
    "H = model.components_"
   ]
  },
  {
   "cell_type": "code",
   "execution_count": 3,
   "id": "e7ce8209",
   "metadata": {},
   "outputs": [],
   "source": [
    "df = dask_cudf.read_csv('data/sample.csv')\n",
    "df = df.persist()\n",
    "\n",
    "df['global_x'] = df['global_x'] - df['global_x'].min().compute()\n",
    "df['global_y'] = df['global_y'] - df['global_y'].min().compute()\n",
    "\n",
    "df['global_x'] = df['global_x'].astype('int')\n",
    "df['global_y'] = df['global_y'].astype('int')\n",
    "\n",
    "top = 0\n",
    "bottom = df['global_y'].max().compute()\n",
    "left = 0\n",
    "right = df['global_x'].max().compute()"
   ]
  },
  {
   "cell_type": "code",
   "execution_count": 4,
   "id": "ec15bd4b",
   "metadata": {},
   "outputs": [
    {
     "name": "stdout",
     "output_type": "stream",
     "text": [
      "done.\n"
     ]
    }
   ],
   "source": [
    "genes_list = df['gene'].unique().compute().to_pandas().tolist()\n",
    "filtered_genes = [i for i in genes_list if 'Blank' not in i]\n",
    "gene_to_channel = {gene: i for i, gene in enumerate(filtered_genes)}\n",
    "\n",
    "cp_matrix = cupy.zeros((bottom - top + 1, right - left + 1, len(filtered_genes)), dtype=np.int32)\n",
    "\n",
    "for _, row in df.compute().to_pandas().iterrows():\n",
    "    x = row['global_x']\n",
    "    y = row['global_y']\n",
    "    gene = row['gene']\n",
    "    if gene in filtered_genes:\n",
    "        channel = gene_to_channel[gene]\n",
    "        cp_matrix[y, x, channel] += 1\n",
    "    else:\n",
    "        continue\n",
    "        \n",
    "W = cudf.DataFrame(W, index=V.index)\n",
    "quad_tree_generator = rapids_qt.QuadTreeGenerator(arr=cp_matrix, gene_to_channnel=gene_to_channel, rank=rank, pattern=W, iterations=341, min_size=20)\n",
    "quad_tree_generator.generate_quad_tree()\n",
    "quad_tree_generator.save_gif(output_path=f\"output/sample.gif\")\n",
    "quad_tree_generator.save_png(output_path=f\"output/sample.png\")\n",
    "del cp_matrix\n",
    "del quad_tree_generator.arr\n",
    "gc.collect()\n",
    "print('done.')\n"
   ]
  }
 ],
 "metadata": {
  "kernelspec": {
   "display_name": "rapids-24.10",
   "language": "python",
   "name": "python3"
  },
  "language_info": {
   "codemirror_mode": {
    "name": "ipython",
    "version": 3
   },
   "file_extension": ".py",
   "mimetype": "text/x-python",
   "name": "python",
   "nbconvert_exporter": "python",
   "pygments_lexer": "ipython3",
   "version": "3.12.8"
  }
 },
 "nbformat": 4,
 "nbformat_minor": 5
}
